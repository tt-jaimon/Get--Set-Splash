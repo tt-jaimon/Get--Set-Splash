{
 "cells": [
  {
   "cell_type": "markdown",
   "metadata": {},
   "source": [
    "# Deaths in Australia due to drowning Cleaning Script"
   ]
  },
  {
   "cell_type": "markdown",
   "metadata": {},
   "source": [
    "Data is has been imported from Grim data from data.gov.au"
   ]
  },
  {
   "cell_type": "markdown",
   "metadata": {},
   "source": [
    "### Importing Necessary Libraries"
   ]
  },
  {
   "cell_type": "code",
   "execution_count": 1,
   "metadata": {},
   "outputs": [],
   "source": [
    "import pandas as pd\n",
    "import matplotlib.pyplot as plt"
   ]
  },
  {
   "cell_type": "markdown",
   "metadata": {},
   "source": [
    "### Loading the data into Data frames"
   ]
  },
  {
   "cell_type": "code",
   "execution_count": 2,
   "metadata": {},
   "outputs": [
    {
     "data": {
      "text/html": [
       "<div>\n",
       "<style scoped>\n",
       "    .dataframe tbody tr th:only-of-type {\n",
       "        vertical-align: middle;\n",
       "    }\n",
       "\n",
       "    .dataframe tbody tr th {\n",
       "        vertical-align: top;\n",
       "    }\n",
       "\n",
       "    .dataframe thead th {\n",
       "        text-align: right;\n",
       "    }\n",
       "</style>\n",
       "<table border=\"1\" class=\"dataframe\">\n",
       "  <thead>\n",
       "    <tr style=\"text-align: right;\">\n",
       "      <th></th>\n",
       "      <th>grim</th>\n",
       "      <th>cause_of_death</th>\n",
       "      <th>YEAR</th>\n",
       "      <th>SEX</th>\n",
       "      <th>AGE_GROUP</th>\n",
       "      <th>deaths</th>\n",
       "      <th>rate</th>\n",
       "      <th>age_standardised_rate</th>\n",
       "    </tr>\n",
       "  </thead>\n",
       "  <tbody>\n",
       "    <tr>\n",
       "      <th>0</th>\n",
       "      <td>GRIM0000</td>\n",
       "      <td>All causes combined (ICD-10 all)</td>\n",
       "      <td>1907</td>\n",
       "      <td>Males</td>\n",
       "      <td>0–4</td>\n",
       "      <td>6482.0</td>\n",
       "      <td>2604.0</td>\n",
       "      <td>NaN</td>\n",
       "    </tr>\n",
       "    <tr>\n",
       "      <th>1</th>\n",
       "      <td>GRIM0000</td>\n",
       "      <td>All causes combined (ICD-10 all)</td>\n",
       "      <td>1907</td>\n",
       "      <td>Males</td>\n",
       "      <td>5–9</td>\n",
       "      <td>473.0</td>\n",
       "      <td>205.1</td>\n",
       "      <td>NaN</td>\n",
       "    </tr>\n",
       "    <tr>\n",
       "      <th>2</th>\n",
       "      <td>GRIM0000</td>\n",
       "      <td>All causes combined (ICD-10 all)</td>\n",
       "      <td>1907</td>\n",
       "      <td>Males</td>\n",
       "      <td>10–14</td>\n",
       "      <td>366.0</td>\n",
       "      <td>168.4</td>\n",
       "      <td>NaN</td>\n",
       "    </tr>\n",
       "    <tr>\n",
       "      <th>3</th>\n",
       "      <td>GRIM0000</td>\n",
       "      <td>All causes combined (ICD-10 all)</td>\n",
       "      <td>1907</td>\n",
       "      <td>Males</td>\n",
       "      <td>15–19</td>\n",
       "      <td>569.0</td>\n",
       "      <td>266.8</td>\n",
       "      <td>NaN</td>\n",
       "    </tr>\n",
       "    <tr>\n",
       "      <th>4</th>\n",
       "      <td>GRIM0000</td>\n",
       "      <td>All causes combined (ICD-10 all)</td>\n",
       "      <td>1907</td>\n",
       "      <td>Males</td>\n",
       "      <td>20–24</td>\n",
       "      <td>763.0</td>\n",
       "      <td>366.8</td>\n",
       "      <td>NaN</td>\n",
       "    </tr>\n",
       "  </tbody>\n",
       "</table>\n",
       "</div>"
      ],
      "text/plain": [
       "       grim                    cause_of_death  YEAR    SEX AGE_GROUP  deaths  \\\n",
       "0  GRIM0000  All causes combined (ICD-10 all)  1907  Males       0–4  6482.0   \n",
       "1  GRIM0000  All causes combined (ICD-10 all)  1907  Males       5–9   473.0   \n",
       "2  GRIM0000  All causes combined (ICD-10 all)  1907  Males     10–14   366.0   \n",
       "3  GRIM0000  All causes combined (ICD-10 all)  1907  Males     15–19   569.0   \n",
       "4  GRIM0000  All causes combined (ICD-10 all)  1907  Males     20–24   763.0   \n",
       "\n",
       "     rate  age_standardised_rate  \n",
       "0  2604.0                    NaN  \n",
       "1   205.1                    NaN  \n",
       "2   168.4                    NaN  \n",
       "3   266.8                    NaN  \n",
       "4   366.8                    NaN  "
      ]
     },
     "execution_count": 2,
     "metadata": {},
     "output_type": "execute_result"
    }
   ],
   "source": [
    "cause = pd.read_csv('grimdatagovau.csv',encoding='cp1252')\n",
    "#removing Persons fro the dataset it is just the sum of Males and Females\n",
    "cause= cause[cause['SEX'] != 'Persons']\n",
    "cause.head()"
   ]
  },
  {
   "cell_type": "code",
   "execution_count": 3,
   "metadata": {},
   "outputs": [
    {
     "data": {
      "text/html": [
       "<div>\n",
       "<style scoped>\n",
       "    .dataframe tbody tr th:only-of-type {\n",
       "        vertical-align: middle;\n",
       "    }\n",
       "\n",
       "    .dataframe tbody tr th {\n",
       "        vertical-align: top;\n",
       "    }\n",
       "\n",
       "    .dataframe thead th {\n",
       "        text-align: right;\n",
       "    }\n",
       "</style>\n",
       "<table border=\"1\" class=\"dataframe\">\n",
       "  <thead>\n",
       "    <tr style=\"text-align: right;\">\n",
       "      <th></th>\n",
       "      <th>cause_of_death</th>\n",
       "      <th>YEAR</th>\n",
       "      <th>SEX</th>\n",
       "      <th>AGE_GROUP</th>\n",
       "      <th>deaths</th>\n",
       "      <th>rate</th>\n",
       "      <th>age_standardised_rate</th>\n",
       "    </tr>\n",
       "  </thead>\n",
       "  <tbody>\n",
       "    <tr>\n",
       "      <th>0</th>\n",
       "      <td>accidental drowning (icd-10 w65–w74)</td>\n",
       "      <td>1907</td>\n",
       "      <td>Males</td>\n",
       "      <td>0–4</td>\n",
       "      <td>NaN</td>\n",
       "      <td>NaN</td>\n",
       "      <td>NaN</td>\n",
       "    </tr>\n",
       "    <tr>\n",
       "      <th>1</th>\n",
       "      <td>accidental drowning (icd-10 w65–w74)</td>\n",
       "      <td>1907</td>\n",
       "      <td>Males</td>\n",
       "      <td>5–9</td>\n",
       "      <td>NaN</td>\n",
       "      <td>NaN</td>\n",
       "      <td>NaN</td>\n",
       "    </tr>\n",
       "    <tr>\n",
       "      <th>2</th>\n",
       "      <td>accidental drowning (icd-10 w65–w74)</td>\n",
       "      <td>1907</td>\n",
       "      <td>Males</td>\n",
       "      <td>10–14</td>\n",
       "      <td>NaN</td>\n",
       "      <td>NaN</td>\n",
       "      <td>NaN</td>\n",
       "    </tr>\n",
       "    <tr>\n",
       "      <th>3</th>\n",
       "      <td>accidental drowning (icd-10 w65–w74)</td>\n",
       "      <td>1907</td>\n",
       "      <td>Males</td>\n",
       "      <td>15–19</td>\n",
       "      <td>NaN</td>\n",
       "      <td>NaN</td>\n",
       "      <td>NaN</td>\n",
       "    </tr>\n",
       "    <tr>\n",
       "      <th>4</th>\n",
       "      <td>accidental drowning (icd-10 w65–w74)</td>\n",
       "      <td>1907</td>\n",
       "      <td>Males</td>\n",
       "      <td>20–24</td>\n",
       "      <td>NaN</td>\n",
       "      <td>NaN</td>\n",
       "      <td>NaN</td>\n",
       "    </tr>\n",
       "  </tbody>\n",
       "</table>\n",
       "</div>"
      ],
      "text/plain": [
       "                         cause_of_death  YEAR    SEX AGE_GROUP  deaths  rate  \\\n",
       "0  accidental drowning (icd-10 w65–w74)  1907  Males       0–4     NaN   NaN   \n",
       "1  accidental drowning (icd-10 w65–w74)  1907  Males       5–9     NaN   NaN   \n",
       "2  accidental drowning (icd-10 w65–w74)  1907  Males     10–14     NaN   NaN   \n",
       "3  accidental drowning (icd-10 w65–w74)  1907  Males     15–19     NaN   NaN   \n",
       "4  accidental drowning (icd-10 w65–w74)  1907  Males     20–24     NaN   NaN   \n",
       "\n",
       "   age_standardised_rate  \n",
       "0                    NaN  \n",
       "1                    NaN  \n",
       "2                    NaN  \n",
       "3                    NaN  \n",
       "4                    NaN  "
      ]
     },
     "execution_count": 3,
     "metadata": {},
     "output_type": "execute_result"
    }
   ],
   "source": [
    "#removing unused columns\n",
    "cause.drop('grim',axis=1,inplace=True)\n",
    "# Filtering out deaths only due to drowning\n",
    "cause['cause_of_death'] = cause['cause_of_death'].str.lower()\n",
    "cause = cause[cause['cause_of_death'].str.contains(\"drowning\")]\n",
    "#resting the index as now the dataframe only has data related to drowning\n",
    "cause.reset_index(inplace = True)\n",
    "cause.drop(\"index\",axis=1,inplace=True)\n",
    "cause.head()"
   ]
  },
  {
   "cell_type": "code",
   "execution_count": 4,
   "metadata": {},
   "outputs": [
    {
     "data": {
      "text/html": [
       "<div>\n",
       "<style scoped>\n",
       "    .dataframe tbody tr th:only-of-type {\n",
       "        vertical-align: middle;\n",
       "    }\n",
       "\n",
       "    .dataframe tbody tr th {\n",
       "        vertical-align: top;\n",
       "    }\n",
       "\n",
       "    .dataframe thead th {\n",
       "        text-align: right;\n",
       "    }\n",
       "</style>\n",
       "<table border=\"1\" class=\"dataframe\">\n",
       "  <thead>\n",
       "    <tr style=\"text-align: right;\">\n",
       "      <th></th>\n",
       "      <th>cause_of_death</th>\n",
       "      <th>YEAR</th>\n",
       "      <th>SEX</th>\n",
       "      <th>AGE_GROUP</th>\n",
       "      <th>deaths</th>\n",
       "      <th>rate</th>\n",
       "      <th>age_standardised_rate</th>\n",
       "    </tr>\n",
       "  </thead>\n",
       "  <tbody>\n",
       "    <tr>\n",
       "      <th>0</th>\n",
       "      <td>accidental drowning (icd-10 w65–w74)</td>\n",
       "      <td>1979</td>\n",
       "      <td>Males</td>\n",
       "      <td>0–4</td>\n",
       "      <td>50.0</td>\n",
       "      <td>8.6</td>\n",
       "      <td>NaN</td>\n",
       "    </tr>\n",
       "    <tr>\n",
       "      <th>1</th>\n",
       "      <td>accidental drowning (icd-10 w65–w74)</td>\n",
       "      <td>1979</td>\n",
       "      <td>Males</td>\n",
       "      <td>5–9</td>\n",
       "      <td>13.0</td>\n",
       "      <td>1.9</td>\n",
       "      <td>NaN</td>\n",
       "    </tr>\n",
       "    <tr>\n",
       "      <th>2</th>\n",
       "      <td>accidental drowning (icd-10 w65–w74)</td>\n",
       "      <td>1979</td>\n",
       "      <td>Males</td>\n",
       "      <td>10–14</td>\n",
       "      <td>8.0</td>\n",
       "      <td>1.2</td>\n",
       "      <td>NaN</td>\n",
       "    </tr>\n",
       "    <tr>\n",
       "      <th>3</th>\n",
       "      <td>accidental drowning (icd-10 w65–w74)</td>\n",
       "      <td>1979</td>\n",
       "      <td>Males</td>\n",
       "      <td>15–19</td>\n",
       "      <td>27.0</td>\n",
       "      <td>4.0</td>\n",
       "      <td>NaN</td>\n",
       "    </tr>\n",
       "    <tr>\n",
       "      <th>4</th>\n",
       "      <td>accidental drowning (icd-10 w65–w74)</td>\n",
       "      <td>1979</td>\n",
       "      <td>Males</td>\n",
       "      <td>20–24</td>\n",
       "      <td>31.0</td>\n",
       "      <td>4.9</td>\n",
       "      <td>NaN</td>\n",
       "    </tr>\n",
       "  </tbody>\n",
       "</table>\n",
       "</div>"
      ],
      "text/plain": [
       "                         cause_of_death  YEAR    SEX AGE_GROUP  deaths  rate  \\\n",
       "0  accidental drowning (icd-10 w65–w74)  1979  Males       0–4    50.0   8.6   \n",
       "1  accidental drowning (icd-10 w65–w74)  1979  Males       5–9    13.0   1.9   \n",
       "2  accidental drowning (icd-10 w65–w74)  1979  Males     10–14     8.0   1.2   \n",
       "3  accidental drowning (icd-10 w65–w74)  1979  Males     15–19    27.0   4.0   \n",
       "4  accidental drowning (icd-10 w65–w74)  1979  Males     20–24    31.0   4.9   \n",
       "\n",
       "   age_standardised_rate  \n",
       "0                    NaN  \n",
       "1                    NaN  \n",
       "2                    NaN  \n",
       "3                    NaN  \n",
       "4                    NaN  "
      ]
     },
     "execution_count": 4,
     "metadata": {},
     "output_type": "execute_result"
    }
   ],
   "source": [
    "#Removing all the data for which deaths was not recorded\n",
    "cause = cause[cause['deaths'].notna()]\n",
    "#Also removing the Total column out of age groups\n",
    "cause = cause[cause['AGE_GROUP']!= 'Total']\n",
    "#Again restting the index after filtering out all the necessary data\n",
    "cause.reset_index(inplace = True)\n",
    "cause.drop(\"index\",axis=1,inplace=True)\n",
    "cause.head()"
   ]
  },
  {
   "cell_type": "code",
   "execution_count": 5,
   "metadata": {},
   "outputs": [
    {
     "data": {
      "text/plain": [
       "(1479, 7)"
      ]
     },
     "execution_count": 5,
     "metadata": {},
     "output_type": "execute_result"
    }
   ],
   "source": [
    "#Just checking the dimensions of the data\n",
    "cause.shape"
   ]
  },
  {
   "cell_type": "code",
   "execution_count": 6,
   "metadata": {},
   "outputs": [
    {
     "data": {
      "text/html": [
       "<div>\n",
       "<style scoped>\n",
       "    .dataframe tbody tr th:only-of-type {\n",
       "        vertical-align: middle;\n",
       "    }\n",
       "\n",
       "    .dataframe tbody tr th {\n",
       "        vertical-align: top;\n",
       "    }\n",
       "\n",
       "    .dataframe thead th {\n",
       "        text-align: right;\n",
       "    }\n",
       "</style>\n",
       "<table border=\"1\" class=\"dataframe\">\n",
       "  <thead>\n",
       "    <tr style=\"text-align: right;\">\n",
       "      <th></th>\n",
       "      <th>YEAR</th>\n",
       "      <th>SEX</th>\n",
       "      <th>AGE_GROUP</th>\n",
       "      <th>deaths</th>\n",
       "      <th>rate</th>\n",
       "    </tr>\n",
       "  </thead>\n",
       "  <tbody>\n",
       "    <tr>\n",
       "      <th>0</th>\n",
       "      <td>1979</td>\n",
       "      <td>Males</td>\n",
       "      <td>0–4</td>\n",
       "      <td>50.0</td>\n",
       "      <td>8.6</td>\n",
       "    </tr>\n",
       "    <tr>\n",
       "      <th>1</th>\n",
       "      <td>1979</td>\n",
       "      <td>Males</td>\n",
       "      <td>5–9</td>\n",
       "      <td>13.0</td>\n",
       "      <td>1.9</td>\n",
       "    </tr>\n",
       "    <tr>\n",
       "      <th>2</th>\n",
       "      <td>1979</td>\n",
       "      <td>Males</td>\n",
       "      <td>10–14</td>\n",
       "      <td>8.0</td>\n",
       "      <td>1.2</td>\n",
       "    </tr>\n",
       "    <tr>\n",
       "      <th>3</th>\n",
       "      <td>1979</td>\n",
       "      <td>Males</td>\n",
       "      <td>15–19</td>\n",
       "      <td>27.0</td>\n",
       "      <td>4.0</td>\n",
       "    </tr>\n",
       "    <tr>\n",
       "      <th>4</th>\n",
       "      <td>1979</td>\n",
       "      <td>Males</td>\n",
       "      <td>20–24</td>\n",
       "      <td>31.0</td>\n",
       "      <td>4.9</td>\n",
       "    </tr>\n",
       "  </tbody>\n",
       "</table>\n",
       "</div>"
      ],
      "text/plain": [
       "   YEAR    SEX AGE_GROUP  deaths  rate\n",
       "0  1979  Males       0–4    50.0   8.6\n",
       "1  1979  Males       5–9    13.0   1.9\n",
       "2  1979  Males     10–14     8.0   1.2\n",
       "3  1979  Males     15–19    27.0   4.0\n",
       "4  1979  Males     20–24    31.0   4.9"
      ]
     },
     "execution_count": 6,
     "metadata": {},
     "output_type": "execute_result"
    }
   ],
   "source": [
    "#Removing unwanted columns\n",
    "cause.drop(['cause_of_death','age_standardised_rate'],axis=1,inplace=True)\n",
    "cause.head()"
   ]
  },
  {
   "cell_type": "code",
   "execution_count": 7,
   "metadata": {},
   "outputs": [
    {
     "data": {
      "text/plain": [
       "array(['0–4', '5–9', '10–14', '15–19', '20–24', '25–29', '30–34', '35–39',\n",
       "       '40–44', '45–49', '50–54', '55–59', '60–64', '65–69', '70–74',\n",
       "       '75–79', '80–84', '85+', 'Missing'], dtype=object)"
      ]
     },
     "execution_count": 7,
     "metadata": {},
     "output_type": "execute_result"
    }
   ],
   "source": [
    "#checking data of which all age groups are present\n",
    "cause['AGE_GROUP'].unique()"
   ]
  },
  {
   "cell_type": "code",
   "execution_count": 8,
   "metadata": {},
   "outputs": [],
   "source": [
    "#Writing the dataframe into a csv file with deaths of all age groups\n",
    "cause.to_csv(r'db-deaths.csv')"
   ]
  },
  {
   "cell_type": "markdown",
   "metadata": {},
   "source": [
    "### Filtering Data of Children with Age Group Less than 20"
   ]
  },
  {
   "cell_type": "code",
   "execution_count": 9,
   "metadata": {},
   "outputs": [],
   "source": [
    "#Filtering data with only age groups less than 20\n",
    "causelt20 = cause[cause['AGE_GROUP'].isin(['0–4', '5–9', '10–14', '15–19'])]"
   ]
  },
  {
   "cell_type": "code",
   "execution_count": 10,
   "metadata": {},
   "outputs": [
    {
     "data": {
      "text/plain": [
       "array(['0–4', '5–9', '10–14', '15–19'], dtype=object)"
      ]
     },
     "execution_count": 10,
     "metadata": {},
     "output_type": "execute_result"
    }
   ],
   "source": [
    "#Cross checking the age group\n",
    "causelt20['AGE_GROUP'].unique()"
   ]
  },
  {
   "cell_type": "code",
   "execution_count": 11,
   "metadata": {},
   "outputs": [
    {
     "data": {
      "text/plain": [
       "Index(['YEAR', 'SEX', 'AGE_GROUP', 'deaths', 'rate'], dtype='object')"
      ]
     },
     "execution_count": 11,
     "metadata": {},
     "output_type": "execute_result"
    }
   ],
   "source": [
    "#Checking the current names of the columns\n",
    "causelt20.columns"
   ]
  },
  {
   "cell_type": "code",
   "execution_count": 12,
   "metadata": {},
   "outputs": [
    {
     "name": "stderr",
     "output_type": "stream",
     "text": [
      "C:\\ProgramData\\Anaconda3\\lib\\site-packages\\ipykernel_launcher.py:2: SettingWithCopyWarning: \n",
      "A value is trying to be set on a copy of a slice from a DataFrame.\n",
      "Try using .loc[row_indexer,col_indexer] = value instead\n",
      "\n",
      "See the caveats in the documentation: http://pandas.pydata.org/pandas-docs/stable/indexing.html#indexing-view-versus-copy\n",
      "  \n",
      "C:\\ProgramData\\Anaconda3\\lib\\site-packages\\pandas\\core\\frame.py:3694: SettingWithCopyWarning: \n",
      "A value is trying to be set on a copy of a slice from a DataFrame\n",
      "\n",
      "See the caveats in the documentation: http://pandas.pydata.org/pandas-docs/stable/indexing.html#indexing-view-versus-copy\n",
      "  errors=errors)\n",
      "C:\\ProgramData\\Anaconda3\\lib\\site-packages\\ipykernel_launcher.py:4: SettingWithCopyWarning: \n",
      "A value is trying to be set on a copy of a slice from a DataFrame.\n",
      "Try using .loc[row_indexer,col_indexer] = value instead\n",
      "\n",
      "See the caveats in the documentation: http://pandas.pydata.org/pandas-docs/stable/indexing.html#indexing-view-versus-copy\n",
      "  after removing the cwd from sys.path.\n",
      "C:\\ProgramData\\Anaconda3\\lib\\site-packages\\ipykernel_launcher.py:6: SettingWithCopyWarning: \n",
      "A value is trying to be set on a copy of a slice from a DataFrame.\n",
      "Try using .loc[row_indexer,col_indexer] = value instead\n",
      "\n",
      "See the caveats in the documentation: http://pandas.pydata.org/pandas-docs/stable/indexing.html#indexing-view-versus-copy\n",
      "  \n",
      "C:\\ProgramData\\Anaconda3\\lib\\site-packages\\ipykernel_launcher.py:8: SettingWithCopyWarning: \n",
      "A value is trying to be set on a copy of a slice from a DataFrame.\n",
      "Try using .loc[row_indexer,col_indexer] = value instead\n",
      "\n",
      "See the caveats in the documentation: http://pandas.pydata.org/pandas-docs/stable/indexing.html#indexing-view-versus-copy\n",
      "  \n",
      "C:\\ProgramData\\Anaconda3\\lib\\site-packages\\ipykernel_launcher.py:10: SettingWithCopyWarning: \n",
      "A value is trying to be set on a copy of a slice from a DataFrame.\n",
      "Try using .loc[row_indexer,col_indexer] = value instead\n",
      "\n",
      "See the caveats in the documentation: http://pandas.pydata.org/pandas-docs/stable/indexing.html#indexing-view-versus-copy\n",
      "  # Remove the CWD from sys.path while we load stuff.\n"
     ]
    },
    {
     "data": {
      "text/html": [
       "<div>\n",
       "<style scoped>\n",
       "    .dataframe tbody tr th:only-of-type {\n",
       "        vertical-align: middle;\n",
       "    }\n",
       "\n",
       "    .dataframe tbody tr th {\n",
       "        vertical-align: top;\n",
       "    }\n",
       "\n",
       "    .dataframe thead th {\n",
       "        text-align: right;\n",
       "    }\n",
       "</style>\n",
       "<table border=\"1\" class=\"dataframe\">\n",
       "  <thead>\n",
       "    <tr style=\"text-align: right;\">\n",
       "      <th></th>\n",
       "      <th>year</th>\n",
       "      <th>Gender</th>\n",
       "      <th>Deaths</th>\n",
       "      <th>DeathRate</th>\n",
       "      <th>AgeGroup</th>\n",
       "    </tr>\n",
       "  </thead>\n",
       "  <tbody>\n",
       "    <tr>\n",
       "      <th>0</th>\n",
       "      <td>1979</td>\n",
       "      <td>Males</td>\n",
       "      <td>50.0</td>\n",
       "      <td>8.6</td>\n",
       "      <td>0–4</td>\n",
       "    </tr>\n",
       "    <tr>\n",
       "      <th>1</th>\n",
       "      <td>1979</td>\n",
       "      <td>Males</td>\n",
       "      <td>13.0</td>\n",
       "      <td>1.9</td>\n",
       "      <td>5–9</td>\n",
       "    </tr>\n",
       "    <tr>\n",
       "      <th>2</th>\n",
       "      <td>1979</td>\n",
       "      <td>Males</td>\n",
       "      <td>8.0</td>\n",
       "      <td>1.2</td>\n",
       "      <td>10–14</td>\n",
       "    </tr>\n",
       "    <tr>\n",
       "      <th>3</th>\n",
       "      <td>1979</td>\n",
       "      <td>Males</td>\n",
       "      <td>27.0</td>\n",
       "      <td>4.0</td>\n",
       "      <td>15–19</td>\n",
       "    </tr>\n",
       "    <tr>\n",
       "      <th>19</th>\n",
       "      <td>1979</td>\n",
       "      <td>Females</td>\n",
       "      <td>46.0</td>\n",
       "      <td>8.2</td>\n",
       "      <td>0–4</td>\n",
       "    </tr>\n",
       "  </tbody>\n",
       "</table>\n",
       "</div>"
      ],
      "text/plain": [
       "    year   Gender  Deaths  DeathRate AgeGroup\n",
       "0   1979    Males    50.0        8.6      0–4\n",
       "1   1979    Males    13.0        1.9      5–9\n",
       "2   1979    Males     8.0        1.2    10–14\n",
       "3   1979    Males    27.0        4.0    15–19\n",
       "19  1979  Females    46.0        8.2      0–4"
      ]
     },
     "execution_count": 12,
     "metadata": {},
     "output_type": "execute_result"
    }
   ],
   "source": [
    "# modifying the column names to maintain uniformity among all files\n",
    "causelt20['year'] = causelt20['YEAR']\n",
    "causelt20.drop('YEAR',axis=1,inplace=True)\n",
    "causelt20['Gender'] = causelt20['SEX']\n",
    "causelt20.drop('SEX',axis=1,inplace=True)\n",
    "causelt20['Deaths'] = causelt20['deaths']\n",
    "causelt20.drop('deaths',axis=1,inplace=True)\n",
    "causelt20['DeathRate'] = causelt20['rate']\n",
    "causelt20.drop('rate',axis=1,inplace=True)\n",
    "causelt20['AgeGroup'] = causelt20['AGE_GROUP']\n",
    "causelt20.drop('AGE_GROUP',axis=1,inplace=True)\n",
    "causelt20.head()"
   ]
  },
  {
   "cell_type": "code",
   "execution_count": 13,
   "metadata": {},
   "outputs": [
    {
     "data": {
      "text/html": [
       "<div>\n",
       "<style scoped>\n",
       "    .dataframe tbody tr th:only-of-type {\n",
       "        vertical-align: middle;\n",
       "    }\n",
       "\n",
       "    .dataframe tbody tr th {\n",
       "        vertical-align: top;\n",
       "    }\n",
       "\n",
       "    .dataframe thead th {\n",
       "        text-align: right;\n",
       "    }\n",
       "</style>\n",
       "<table border=\"1\" class=\"dataframe\">\n",
       "  <thead>\n",
       "    <tr style=\"text-align: right;\">\n",
       "      <th></th>\n",
       "      <th>year</th>\n",
       "      <th>Gender</th>\n",
       "      <th>AgeGroup</th>\n",
       "      <th>Deaths</th>\n",
       "      <th>DeathRate</th>\n",
       "    </tr>\n",
       "  </thead>\n",
       "  <tbody>\n",
       "    <tr>\n",
       "      <th>0</th>\n",
       "      <td>1979</td>\n",
       "      <td>Males</td>\n",
       "      <td>0–4</td>\n",
       "      <td>50.0</td>\n",
       "      <td>8.6</td>\n",
       "    </tr>\n",
       "    <tr>\n",
       "      <th>1</th>\n",
       "      <td>1979</td>\n",
       "      <td>Males</td>\n",
       "      <td>5–9</td>\n",
       "      <td>13.0</td>\n",
       "      <td>1.9</td>\n",
       "    </tr>\n",
       "    <tr>\n",
       "      <th>2</th>\n",
       "      <td>1979</td>\n",
       "      <td>Males</td>\n",
       "      <td>10–14</td>\n",
       "      <td>8.0</td>\n",
       "      <td>1.2</td>\n",
       "    </tr>\n",
       "    <tr>\n",
       "      <th>3</th>\n",
       "      <td>1979</td>\n",
       "      <td>Males</td>\n",
       "      <td>15–19</td>\n",
       "      <td>27.0</td>\n",
       "      <td>4.0</td>\n",
       "    </tr>\n",
       "    <tr>\n",
       "      <th>19</th>\n",
       "      <td>1979</td>\n",
       "      <td>Females</td>\n",
       "      <td>0–4</td>\n",
       "      <td>46.0</td>\n",
       "      <td>8.2</td>\n",
       "    </tr>\n",
       "  </tbody>\n",
       "</table>\n",
       "</div>"
      ],
      "text/plain": [
       "    year   Gender AgeGroup  Deaths  DeathRate\n",
       "0   1979    Males      0–4    50.0        8.6\n",
       "1   1979    Males      5–9    13.0        1.9\n",
       "2   1979    Males    10–14     8.0        1.2\n",
       "3   1979    Males    15–19    27.0        4.0\n",
       "19  1979  Females      0–4    46.0        8.2"
      ]
     },
     "execution_count": 13,
     "metadata": {},
     "output_type": "execute_result"
    }
   ],
   "source": [
    "#Changing the order of columns\n",
    "causelt20 = causelt20.reindex(columns=['year','Gender','AgeGroup','Deaths','DeathRate'])\n",
    "causelt20.head()"
   ]
  },
  {
   "cell_type": "code",
   "execution_count": 14,
   "metadata": {},
   "outputs": [
    {
     "data": {
      "text/html": [
       "<div>\n",
       "<style scoped>\n",
       "    .dataframe tbody tr th:only-of-type {\n",
       "        vertical-align: middle;\n",
       "    }\n",
       "\n",
       "    .dataframe tbody tr th {\n",
       "        vertical-align: top;\n",
       "    }\n",
       "\n",
       "    .dataframe thead th {\n",
       "        text-align: right;\n",
       "    }\n",
       "</style>\n",
       "<table border=\"1\" class=\"dataframe\">\n",
       "  <thead>\n",
       "    <tr style=\"text-align: right;\">\n",
       "      <th></th>\n",
       "      <th>year</th>\n",
       "      <th>Gender</th>\n",
       "      <th>AgeGroup</th>\n",
       "      <th>Deaths</th>\n",
       "      <th>DeathRate</th>\n",
       "    </tr>\n",
       "  </thead>\n",
       "  <tbody>\n",
       "    <tr>\n",
       "      <th>0</th>\n",
       "      <td>1979</td>\n",
       "      <td>Males</td>\n",
       "      <td>0–4</td>\n",
       "      <td>50</td>\n",
       "      <td>8.6</td>\n",
       "    </tr>\n",
       "    <tr>\n",
       "      <th>1</th>\n",
       "      <td>1979</td>\n",
       "      <td>Males</td>\n",
       "      <td>5–9</td>\n",
       "      <td>13</td>\n",
       "      <td>1.9</td>\n",
       "    </tr>\n",
       "    <tr>\n",
       "      <th>2</th>\n",
       "      <td>1979</td>\n",
       "      <td>Males</td>\n",
       "      <td>10–14</td>\n",
       "      <td>8</td>\n",
       "      <td>1.2</td>\n",
       "    </tr>\n",
       "    <tr>\n",
       "      <th>3</th>\n",
       "      <td>1979</td>\n",
       "      <td>Males</td>\n",
       "      <td>15–19</td>\n",
       "      <td>27</td>\n",
       "      <td>4.0</td>\n",
       "    </tr>\n",
       "    <tr>\n",
       "      <th>19</th>\n",
       "      <td>1979</td>\n",
       "      <td>Females</td>\n",
       "      <td>0–4</td>\n",
       "      <td>46</td>\n",
       "      <td>8.2</td>\n",
       "    </tr>\n",
       "  </tbody>\n",
       "</table>\n",
       "</div>"
      ],
      "text/plain": [
       "    year   Gender AgeGroup  Deaths  DeathRate\n",
       "0   1979    Males      0–4      50        8.6\n",
       "1   1979    Males      5–9      13        1.9\n",
       "2   1979    Males    10–14       8        1.2\n",
       "3   1979    Males    15–19      27        4.0\n",
       "19  1979  Females      0–4      46        8.2"
      ]
     },
     "execution_count": 14,
     "metadata": {},
     "output_type": "execute_result"
    }
   ],
   "source": [
    "# This function is used to round the no of deaths value\n",
    "def roundDeaths(val):\n",
    "    if (val-int(val)) >= 0.5:\n",
    "        return int(val+1)\n",
    "    return int(val)\n",
    "causelt20['Deaths'] = causelt20['Deaths'].apply(roundDeaths)\n",
    "causelt20.head()"
   ]
  },
  {
   "cell_type": "code",
   "execution_count": 16,
   "metadata": {},
   "outputs": [],
   "source": [
    "#writing the dataframe to csv\n",
    "causelt20.to_csv(r'deaths-lt-20.csv')"
   ]
  },
  {
   "cell_type": "code",
   "execution_count": 17,
   "metadata": {},
   "outputs": [],
   "source": [
    "#Changing the index of the table for writing into a csv file\n",
    "tempDeaths = causelt20.set_index(['year','Gender','AgeGroup'])\n",
    "#writing the dataframe to csv\n",
    "tempDeaths.to_csv(r'db-deaths-lt-20.csv')"
   ]
  },
  {
   "cell_type": "code",
   "execution_count": null,
   "metadata": {},
   "outputs": [],
   "source": [
    "s"
   ]
  }
 ],
 "metadata": {
  "kernelspec": {
   "display_name": "Python 3",
   "language": "python",
   "name": "python3"
  },
  "language_info": {
   "codemirror_mode": {
    "name": "ipython",
    "version": 3
   },
   "file_extension": ".py",
   "mimetype": "text/x-python",
   "name": "python",
   "nbconvert_exporter": "python",
   "pygments_lexer": "ipython3",
   "version": "3.6.5"
  }
 },
 "nbformat": 4,
 "nbformat_minor": 2
}
